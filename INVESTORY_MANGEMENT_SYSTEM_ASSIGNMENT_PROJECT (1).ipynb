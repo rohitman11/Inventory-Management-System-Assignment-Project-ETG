{
 "cells": [
  {
   "cell_type": "markdown",
   "metadata": {
    "id": "ckOwMSruGklG"
   },
   "source": [
    "#READ DATA FROM JSON FILE"
   ]
  },
  {
   "cell_type": "code",
   "execution_count": 94,
   "metadata": {
    "id": "pwcNlUoOKxRS"
   },
   "outputs": [],
   "source": [
    "import json\n",
    "fd=open(\"record.json\",\"r\")\n",
    "r=fd.read()\n",
    "fd.close()"
   ]
  },
  {
   "cell_type": "code",
   "execution_count": 95,
   "metadata": {
    "colab": {
     "base_uri": "https://localhost:8080/",
     "height": 86
    },
    "id": "ym0waDKaKyHQ",
    "outputId": "fd6359ff-bd05-4e2c-ce92-8b9f4493ed05"
   },
   "outputs": [
    {
     "data": {
      "application/vnd.google.colaboratory.intrinsic+json": {
       "type": "string"
      },
      "text/plain": [
       "'{\"1001\": {\"name\": \"Choco Cake\", \"qn\": 34, \"pr\": 100,\"brandname\":\"britania\",\"discount\":50}, \"1002\": {\"name\": \"Milk Cake\", \"pr\": 800, \"qn\": 100,\"brandname\":\"britania\",\"discount\":250}, \"1003\": {\"name\": \"Drink\", \"pr\": 85, \"qn\": 100,\"brandname\":\"pepsico\",\"discount\":100}, \"1004\": {\"name\": \"Candy\", \"pr\": 5, \"qn\": 1000,\"brandname\":\"albanese\",\"discount\":550}, \"1005\": {\"name\": \"Pen\", \"pr\": 20, \"qn\": 100,\"brandname\":\"cello\",\"discount\":20}}'"
      ]
     },
     "execution_count": 95,
     "metadata": {},
     "output_type": "execute_result"
    }
   ],
   "source": [
    "r"
   ]
  },
  {
   "cell_type": "code",
   "execution_count": 96,
   "metadata": {
    "id": "ZD7Wmo7_LMJt"
   },
   "outputs": [],
   "source": [
    "records=json.loads(r)"
   ]
  },
  {
   "cell_type": "code",
   "execution_count": 97,
   "metadata": {
    "colab": {
     "base_uri": "https://localhost:8080/"
    },
    "id": "O2hqDXPLLSqX",
    "outputId": "7b3b8ab5-d59d-4b6a-c345-f75be47f8231"
   },
   "outputs": [
    {
     "data": {
      "text/plain": [
       "{'1001': {'brandname': 'britania',\n",
       "  'discount': 50,\n",
       "  'name': 'Choco Cake',\n",
       "  'pr': 100,\n",
       "  'qn': 34},\n",
       " '1002': {'brandname': 'britania',\n",
       "  'discount': 250,\n",
       "  'name': 'Milk Cake',\n",
       "  'pr': 800,\n",
       "  'qn': 100},\n",
       " '1003': {'brandname': 'pepsico',\n",
       "  'discount': 100,\n",
       "  'name': 'Drink',\n",
       "  'pr': 85,\n",
       "  'qn': 100},\n",
       " '1004': {'brandname': 'albanese',\n",
       "  'discount': 550,\n",
       "  'name': 'Candy',\n",
       "  'pr': 5,\n",
       "  'qn': 1000},\n",
       " '1005': {'brandname': 'cello',\n",
       "  'discount': 20,\n",
       "  'name': 'Pen',\n",
       "  'pr': 20,\n",
       "  'qn': 100}}"
      ]
     },
     "execution_count": 97,
     "metadata": {},
     "output_type": "execute_result"
    }
   ],
   "source": [
    "records"
   ]
  },
  {
   "cell_type": "markdown",
   "metadata": {
    "id": "sPrx11tKKM9b"
   },
   "source": [
    "#ADD NEW ITEM INTO INVENTORY"
   ]
  },
  {
   "cell_type": "code",
   "execution_count": 106,
   "metadata": {
    "colab": {
     "base_uri": "https://localhost:8080/"
    },
    "id": "bgm230BULUTY",
    "outputId": "f3d66cf1-a484-4310-97c6-44cc130e9c4d"
   },
   "outputs": [
    {
     "name": "stdout",
     "output_type": "stream",
     "text": [
      "Enter product id:1006\n",
      "Enter name of product:Dairy Milk\n",
      "Enter price of product:300\n",
      "Enter quantity of product:90\n",
      "Enter the brand of product:Cadbury\n",
      "Enter the discount on product:50\n",
      "Enter product id:1007\n",
      "Enter name of product:Coca Cola\n",
      "Enter price of product:85\n",
      "Enter quantity of product:90\n",
      "Enter the brand of product:Coca Cola\n",
      "Enter the discount on product:5\n",
      "Enter product id:1008\n",
      "Enter name of product:Aero\n",
      "Enter price of product:400\n",
      "Enter quantity of product:56\n",
      "Enter the brand of product:Nestle\n",
      "Enter the discount on product:45\n",
      "Enter product id:1009\n",
      "Enter name of product:Pepsi\n",
      "Enter price of product:85\n",
      "Enter quantity of product:46\n",
      "Enter the brand of product:Pepsico\n",
      "Enter the discount on product:8\n",
      "Enter product id:1010\n",
      "Enter name of product:Almond Joy\n",
      "Enter price of product:150\n",
      "Enter quantity of product:60\n",
      "Enter the brand of product:Hershey\n",
      "Enter the discount on product:35\n",
      "Enter product id:10101\n",
      "Enter name of product:Sprite\n",
      "Enter price of product:55\n",
      "Enter quantity of product:30\n",
      "Enter the brand of product:Coca Cola\n",
      "Enter the discount on product:20\n",
      "Enter product id:1012\n",
      "Enter name of product:Kitkat\n",
      "Enter price of product:35\n",
      "Enter quantity of product:70\n",
      "Enter the brand of product:Nestle\n",
      "Enter the discount on product:5\n",
      "Enter product id:1013\n",
      "Enter name of product:Mountain Dew\n",
      "Enter price of product:35\n",
      "Enter quantity of product:90\n",
      "Enter the brand of product:Pepsico\n",
      "Enter the discount on product:7\n",
      "Enter product id:1014\n",
      "Enter name of product:Rally\n",
      "Enter price of product:250\n",
      "Enter quantity of product:60\n",
      "Enter the brand of product:Hershay\n",
      "Enter the discount on product:20\n",
      "Enter product id:1015\n",
      "Enter name of product:Limca\n",
      "Enter price of product:45\n",
      "Enter quantity of product:90\n",
      "Enter the brand of product:Coca Cola\n",
      "Enter the discount on product:5\n",
      "Enter product id:1016\n",
      "Enter name of product:Parle G\n",
      "Enter price of product:5\n",
      "Enter quantity of product:55\n",
      "Enter the brand of product:Parle\n",
      "Enter the discount on product:1\n",
      "Enter product id:1017\n",
      "Enter name of product:Marrie Gold\n",
      "Enter price of product:10\n",
      "Enter quantity of product:90\n",
      "Enter the brand of product:Britannia\n",
      "Enter the discount on product:3\n",
      "Enter product id:1018\n",
      "Enter name of product:Coconut Crunch\n",
      "Enter price of product:15\n",
      "Enter quantity of product:100\n",
      "Enter the brand of product:Priya Gold\n",
      "Enter the discount on product:4\n",
      "Enter product id:1019\n",
      "Enter name of product:Goodday\n",
      "Enter price of product:5\n",
      "Enter quantity of product:85\n",
      "Enter the brand of product:Britannia\n",
      "Enter the discount on product:2\n",
      "Enter product id:1020\n",
      "Enter name of product:Oreo\n",
      "Enter price of product:25\n",
      "Enter quantity of product:80\n",
      "Enter the brand of product:Cadbury\n",
      "Enter the discount on product:3\n",
      "Enter product id:1021\n",
      "Enter name of product:Sports Shoes\n",
      "Enter price of product:2500\n",
      "Enter quantity of product:80\n",
      "Enter the brand of product:Puma\n",
      "Enter the discount on product:200\n",
      "Enter product id:1022\n",
      "Enter name of product:Lofer Shoes\n",
      "Enter price of product:1950\n",
      "Enter quantity of product:70\n",
      "Enter the brand of product:Roadster\n",
      "Enter the discount on product:250\n",
      "Enter product id:1023\n",
      "Enter name of product:Boots Shoe\n",
      "Enter price of product:3500\n",
      "Enter quantity of product:95\n",
      "Enter the brand of product:Woodland\n",
      "Enter the discount on product:350\n",
      "Enter product id:1024\n",
      "Enter name of product:Leather Shoes\n",
      "Enter price of product:2500\n",
      "Enter quantity of product:20\n",
      "Enter the brand of product:Bata\n",
      "Enter the discount on product:200\n",
      "Enter product id:1025\n",
      "Enter name of product:Sleepers\n",
      "Enter price of product:900\n",
      "Enter quantity of product:98\n",
      "Enter the brand of product:Lakhani\n",
      "Enter the discount on product:75\n",
      "Enter product id:1026\n",
      "Enter name of product:Jeans\n",
      "Enter price of product:2500\n",
      "Enter quantity of product:65\n",
      "Enter the brand of product:Lee Cooper\n",
      "Enter the discount on product:900\n",
      "Enter product id:1027\n",
      "Enter name of product:Shirt\n",
      "Enter price of product:1560\n",
      "Enter quantity of product:60\n",
      "Enter the brand of product:Van Hussan\n",
      "Enter the discount on product:450\n",
      "Enter product id:1028\n",
      "Enter name of product:Perfume\n",
      "Enter price of product:250\n",
      "Enter quantity of product:89\n",
      "Enter the brand of product:Addidas\n",
      "Enter the discount on product:25\n",
      "Enter product id:1029\n",
      "Enter name of product:Sun Glasses\n",
      "Enter price of product:2500\n",
      "Enter quantity of product:90\n",
      "Enter the brand of product:Rebean\n",
      "Enter the discount on product:500\n",
      "Enter product id:1030\n",
      "Enter name of product:Wallet\n",
      "Enter price of product:560\n",
      "Enter quantity of product:56\n",
      "Enter the brand of product:Woodland\n",
      "Enter the discount on product:50\n"
     ]
    }
   ],
   "source": [
    "for i in range(25L):\n",
    "  prod_id = str(input(\"Enter product id:\"))\n",
    "  name = str(input(\"Enter name of product:\"))\n",
    "  pr = int(input(\"Enter price of product:\"))\n",
    "  qn = int(input(\"Enter quantity of product:\"))\n",
    "  brandname=str(input(\"Enter the brand of product:\"))\n",
    "  discount=int(input(\"Enter the discount on product:\"))\n",
    "\n",
    "  records[prod_id] = {'name': name, 'pr': pr, 'qn': qn, 'brandname':brandname, 'discount':discount}\n",
    "\n",
    "js = json.dumps(records)\n",
    "\n",
    "fd = open(\"record.json\",'w')\n",
    "fd.write(js)\n",
    "fd.close()"
   ]
  },
  {
   "cell_type": "markdown",
   "metadata": {
    "id": "isQGXFciGzU2"
   },
   "source": [
    "#READ FROM UPDATING JSON FILE:-"
   ]
  },
  {
   "cell_type": "code",
   "execution_count": null,
   "metadata": {
    "id": "S-sFbbA9G7SO"
   },
   "outputs": [],
   "source": [
    "fd=open(\"record.json\",\"r\")\n",
    "r=fd.read()\n",
    "fd.close()\n",
    "records=json.loads(r)"
   ]
  },
  {
   "cell_type": "code",
   "execution_count": null,
   "metadata": {
    "id": "HpvO6w-uHee6"
   },
   "outputs": [],
   "source": [
    "records"
   ]
  },
  {
   "cell_type": "markdown",
   "metadata": {
    "id": "NXZLBFnfEE2q"
   },
   "source": [
    "#PURCHASE:-"
   ]
  },
  {
   "cell_type": "code",
   "execution_count": 164,
   "metadata": {
    "colab": {
     "base_uri": "https://localhost:8080/"
    },
    "id": "BtVkIK4n1f59",
    "outputId": "32be1720-077a-4926-9065-dd098531aa1a"
   },
   "outputs": [
    {
     "name": "stdout",
     "output_type": "stream",
     "text": [
      "Enter the product id  user wants to buy:1030\n",
      "Enter the number of quantity user wants to purchase15\n",
      "Product Id is  Found and product exists\n",
      "15  quantity is available\n",
      "Product_Name: Wallet\n",
      "Product_Price: 560\n",
      "Brand Name: Woodland\n",
      "Discount on product:Rs 50\n",
      "Product_quantity: 56\n",
      "********************************************\n",
      "YOUR BILL IS:-\n",
      "********************************************\n",
      "*********************************************\n",
      "Enter the coustomer name:RUPAM\n",
      "RUPAM\n",
      "Enter coustomer mobile number:9935642\n",
      "9935642\n",
      "Prpduct Id Name Price\n",
      "1030    Wallet 560\n",
      "No of quantity you buy: 15\n",
      "Total Amount:Rs 8400\n",
      "Total Discount on Product:Rs 750\n",
      "****************************************\n",
      "Total Bill to Pay:Rs 7650\n",
      "*****************************************\n",
      "Sun Sep  5 19:00:09 2021\n",
      "THANKYOU FOR SHOPPING I HOPE WE WILL MEET AGAIN!\n"
     ]
    }
   ],
   "source": [
    "ui_prod=str(input(\"Enter the product id  user wants to buy:\"))\n",
    "ui_qn=int(input(\"Enter the number of quantity user wants to purchase\"))\n",
    "if(ui_prod in records.keys()):\n",
    "  print(\"Product Id is  Found and product exists\")\n",
    "else:\n",
    "  print(\"Product Id is not Found and product does not exists\")\n",
    "if(ui_qn<=records[ui_prod]['qn']):\n",
    "\n",
    "  print(ui_qn,\" quantity is available\")\n",
    "else:\n",
    "  records[ui_prod]['qn']=records[ui_prod]['qn']+ui_qn\n",
    "  print(ui_qn,\" quantity is available\")\n",
    "print(\"Product_Name:\",records[ui_prod]['name'])\n",
    "print(\"Product_Price:\",records[ui_prod]['pr'])\n",
    "print(\"Brand Name:\",records[ui_prod]['brandname'])\n",
    "print(\"Discount on product:Rs\",records[ui_prod]['discount'])\n",
    "print(\"Product_quantity:\",records[ui_prod]['qn'])\n",
    "print(\"********************************************\")\n",
    "print(\"YOUR BILL IS:-\")\n",
    "print(\"********************************************\")\n",
    "print(\"*********************************************\")\n",
    "n=input(\"Enter the coustomer name:\")\n",
    "print(n)\n",
    "m=input((\"Enter coustomer mobile number:\"))\n",
    "print(m)\n",
    "print(\"Prpduct Id\",\"Name\", \"Price\")\n",
    "print(ui_prod,\"  \",records[ui_prod]['name'],records[ui_prod]['pr'])\n",
    "print(\"No of quantity you buy:\",ui_qn) \n",
    "print(\"Total Amount:Rs\",records[ui_prod]['pr']*ui_qn)\n",
    "print(\"Total Discount on Product:Rs\",records[ui_prod]['discount']*ui_qn)\n",
    "print(\"****************************************\")\n",
    "bill=records[ui_prod]['pr']*ui_qn-records[ui_prod]['discount']*ui_qn\n",
    "print(\"Total Bill to Pay:Rs\",bill)\n",
    "print(\"*****************************************\")\n",
    "import time\n",
    "t=time.ctime()\n",
    "print(t)\n",
    "print(\"THANKYOU FOR SHOPPING\"  ,   \"I HOPE WE WILL MEET AGAIN!\")\n",
    "  \n",
    "\n",
    "records[ui_prod]['qn']=records[ui_prod]['qn']-ui_qn"
   ]
  },
  {
   "cell_type": "code",
   "execution_count": 165,
   "metadata": {
    "colab": {
     "base_uri": "https://localhost:8080/"
    },
    "id": "KoanLJxP4GYV",
    "outputId": "483f82ad-bdf4-4af4-c88d-63c161d5ed94"
   },
   "outputs": [
    {
     "data": {
      "text/plain": [
       "{'1001': {'brandname': 'britania',\n",
       "  'discount': 50,\n",
       "  'name': 'Choco Cake',\n",
       "  'pr': 100,\n",
       "  'qn': 2},\n",
       " '1002': {'brandname': 'britania',\n",
       "  'discount': 250,\n",
       "  'name': 'Milk Cake',\n",
       "  'pr': 800,\n",
       "  'qn': 100},\n",
       " '1003': {'brandname': 'pepsico',\n",
       "  'discount': 100,\n",
       "  'name': 'Drink',\n",
       "  'pr': 85,\n",
       "  'qn': 90},\n",
       " '1004': {'brandname': 'albanese',\n",
       "  'discount': 550,\n",
       "  'name': 'Candy',\n",
       "  'pr': 5,\n",
       "  'qn': 955},\n",
       " '1005': {'brandname': 'cello',\n",
       "  'discount': 20,\n",
       "  'name': 'Pen',\n",
       "  'pr': 20,\n",
       "  'qn': 48},\n",
       " '1006': {'brandname': 'Cadbury',\n",
       "  'discount': 50,\n",
       "  'name': 'Dairy Milk',\n",
       "  'pr': 300,\n",
       "  'qn': 74},\n",
       " '1007': {'brandname': 'Coca Cola',\n",
       "  'discount': 5,\n",
       "  'name': 'Coca Cola',\n",
       "  'pr': 85,\n",
       "  'qn': 38},\n",
       " '1008': {'brandname': 'Nestle',\n",
       "  'discount': 45,\n",
       "  'name': 'Aero',\n",
       "  'pr': 400,\n",
       "  'qn': 56},\n",
       " '1009': {'brandname': 'Pepsico',\n",
       "  'discount': 8,\n",
       "  'name': 'Pepsi',\n",
       "  'pr': 85,\n",
       "  'qn': 5},\n",
       " '1010': {'brandname': 'Hershey',\n",
       "  'discount': 35,\n",
       "  'name': 'Almond Joy',\n",
       "  'pr': 150,\n",
       "  'qn': 60},\n",
       " '10101': {'brandname': 'Coca Cola',\n",
       "  'discount': 20,\n",
       "  'name': 'Sprite',\n",
       "  'pr': 55,\n",
       "  'qn': 30},\n",
       " '1012': {'brandname': 'Nestle',\n",
       "  'discount': 5,\n",
       "  'name': 'Kitkat',\n",
       "  'pr': 35,\n",
       "  'qn': 70},\n",
       " '1013': {'brandname': 'Pepsico',\n",
       "  'discount': 7,\n",
       "  'name': 'Mountain Dew',\n",
       "  'pr': 35,\n",
       "  'qn': 90},\n",
       " '1014': {'brandname': 'Hershay',\n",
       "  'discount': 20,\n",
       "  'name': 'Rally',\n",
       "  'pr': 250,\n",
       "  'qn': 60},\n",
       " '1015': {'brandname': 'Coca Cola',\n",
       "  'discount': 5,\n",
       "  'name': 'Limca',\n",
       "  'pr': 45,\n",
       "  'qn': 90},\n",
       " '1016': {'brandname': 'Parle',\n",
       "  'discount': 1,\n",
       "  'name': 'Parle G',\n",
       "  'pr': 5,\n",
       "  'qn': 55},\n",
       " '1017': {'brandname': 'Britannia',\n",
       "  'discount': 3,\n",
       "  'name': 'Marrie Gold',\n",
       "  'pr': 10,\n",
       "  'qn': 90},\n",
       " '1018': {'brandname': 'Priya Gold',\n",
       "  'discount': 4,\n",
       "  'name': 'Coconut Crunch',\n",
       "  'pr': 15,\n",
       "  'qn': 100},\n",
       " '1019': {'brandname': 'Britannia',\n",
       "  'discount': 2,\n",
       "  'name': 'Goodday',\n",
       "  'pr': 5,\n",
       "  'qn': 85},\n",
       " '1020': {'brandname': 'Cadbury',\n",
       "  'discount': 3,\n",
       "  'name': 'Oreo',\n",
       "  'pr': 25,\n",
       "  'qn': 75},\n",
       " '1021': {'brandname': 'Puma',\n",
       "  'discount': 200,\n",
       "  'name': 'Sports Shoes',\n",
       "  'pr': 2500,\n",
       "  'qn': 80},\n",
       " '1022': {'brandname': 'Roadster',\n",
       "  'discount': 250,\n",
       "  'name': 'Lofer Shoes',\n",
       "  'pr': 1950,\n",
       "  'qn': 70},\n",
       " '1023': {'brandname': 'Woodland',\n",
       "  'discount': 350,\n",
       "  'name': 'Boots Shoe',\n",
       "  'pr': 3500,\n",
       "  'qn': 95},\n",
       " '1024': {'brandname': 'Bata',\n",
       "  'discount': 200,\n",
       "  'name': 'Leather Shoes',\n",
       "  'pr': 2500,\n",
       "  'qn': 20},\n",
       " '1025': {'brandname': 'Lakhani',\n",
       "  'discount': 75,\n",
       "  'name': 'Sleepers',\n",
       "  'pr': 900,\n",
       "  'qn': 82},\n",
       " '1026': {'brandname': 'Lee Cooper',\n",
       "  'discount': 900,\n",
       "  'name': 'Jeans',\n",
       "  'pr': 2500,\n",
       "  'qn': 65},\n",
       " '1027': {'brandname': 'Van Hussan',\n",
       "  'discount': 450,\n",
       "  'name': 'Shirt',\n",
       "  'pr': 1560,\n",
       "  'qn': 60},\n",
       " '1028': {'brandname': 'Addidas',\n",
       "  'discount': 25,\n",
       "  'name': 'Perfume',\n",
       "  'pr': 250,\n",
       "  'qn': 89},\n",
       " '1029': {'brandname': 'Rebean',\n",
       "  'discount': 500,\n",
       "  'name': 'Sun Glasses',\n",
       "  'pr': 2500,\n",
       "  'qn': 90},\n",
       " '1030': {'brandname': 'Woodland',\n",
       "  'discount': 50,\n",
       "  'name': 'Wallet',\n",
       "  'pr': 560,\n",
       "  'qn': 41}}"
      ]
     },
     "execution_count": 165,
     "metadata": {},
     "output_type": "execute_result"
    }
   ],
   "source": [
    "records"
   ]
  },
  {
   "cell_type": "markdown",
   "metadata": {
    "id": "C6M185k9HqiW"
   },
   "source": [
    "#UPDATE INVENTORY AFTER PURCHASING:-\n"
   ]
  },
  {
   "cell_type": "code",
   "execution_count": 166,
   "metadata": {
    "id": "UIqBKdBNRNzD"
   },
   "outputs": [],
   "source": [
    "js = json.dumps(records)\n",
    "\n",
    "fd = open(\"record.json\",'w')\n",
    "fd.write(js)\n",
    "fd.close()"
   ]
  },
  {
   "cell_type": "markdown",
   "metadata": {
    "id": "8A1bHW7yFLNL"
   },
   "source": [
    "#SALES JSON"
   ]
  },
  {
   "cell_type": "code",
   "execution_count": null,
   "metadata": {},
   "outputs": [],
   "source": [
    "y=\"yes\"\n",
    "n=\"no\"\n",
    "s_i=input(\"THIS IS YOUR FIRST TRANSACTION:\")\n",
    "if(s_i==\"y\"):\n",
    "    {'prod' : ui_prod, 'qn' : ui_qn, 'amount': records[ui_prod]['pr'] * ui_qn,'time':t}\n",
    "    sales ={1: {'prod' : ui_prod, 'qn' : ui_qn, 'amount': records[ui_prod]['pr'] * ui_qn,'t':t}}\n",
    "else:\n",
    "    {len(sales)+1:{'prod' : ui_prod, 'qn' : ui_qn, 'amount': records[ui_prod]['pr'] * ui_qn,'t':t}}\n",
    "sales[len(sales)+1]={'prod' : ui_prod, 'qn' : ui_qn, 'amount': records[ui_prod]['pr'] * ui_qn,'t':t}\n"
   ]
  },
  {
   "cell_type": "code",
   "execution_count": 112,
   "metadata": {
    "colab": {
     "base_uri": "https://localhost:8080/"
    },
    "id": "usZUS_yTRLCp",
    "outputId": "562e8bd6-c858-4b95-9a76-657ba02234ab"
   },
   "outputs": [
    {
     "data": {
      "text/plain": [
       "{1: {'amount': 1040,\n",
       "  'prod': '1005',\n",
       "  'qn': 52,\n",
       "  't': 'Sun Sep  5 18:36:41 2021'}}"
      ]
     },
     "execution_count": 112,
     "metadata": {},
     "output_type": "execute_result"
    }
   ],
   "source": [
    "sales"
   ]
  },
  {
   "cell_type": "code",
   "execution_count": 168,
   "metadata": {
    "id": "pR_qSk23_Q3S"
   },
   "outputs": [],
   "source": [
    "sales[len(sales)+1]={'prod' : ui_prod, 'qn' : ui_qn, 'amount': records[ui_prod]['pr'] * ui_qn,'t':t}"
   ]
  },
  {
   "cell_type": "code",
   "execution_count": 169,
   "metadata": {
    "colab": {
     "base_uri": "https://localhost:8080/"
    },
    "id": "7IWJHjm1_0kK",
    "outputId": "9e1a3d2f-a4cf-4abe-bb84-192e27319a3d"
   },
   "outputs": [
    {
     "data": {
      "text/plain": [
       "{1: {'amount': 1040,\n",
       "  'prod': '1005',\n",
       "  'qn': 52,\n",
       "  't': 'Sun Sep  5 18:36:41 2021'},\n",
       " 2: {'amount': 3200,\n",
       "  'prod': '1001',\n",
       "  'qn': 32,\n",
       "  't': 'Sun Sep  5 18:45:52 2021'},\n",
       " 3: {'amount': 850, 'prod': '1003', 'qn': 10, 't': 'Sun Sep  5 18:47:45 2021'},\n",
       " 4: {'amount': 4800,\n",
       "  'prod': '1006',\n",
       "  'qn': 16,\n",
       "  't': 'Sun Sep  5 18:49:54 2021'},\n",
       " 5: {'amount': 4420,\n",
       "  'prod': '1007',\n",
       "  'qn': 52,\n",
       "  't': 'Sun Sep  5 18:51:41 2021'},\n",
       " 6: {'amount': 225, 'prod': '1004', 'qn': 45, 't': 'Sun Sep  5 18:53:15 2021'},\n",
       " 7: {'amount': 3485,\n",
       "  'prod': '1009',\n",
       "  'qn': 41,\n",
       "  't': 'Sun Sep  5 18:56:23 2021'},\n",
       " 8: {'amount': 125, 'prod': '1020', 'qn': 5, 't': 'Sun Sep  5 18:57:41 2021'},\n",
       " 9: {'amount': 14400,\n",
       "  'prod': '1025',\n",
       "  'qn': 16,\n",
       "  't': 'Sun Sep  5 18:58:54 2021'},\n",
       " 10: {'amount': 8400,\n",
       "  'prod': '1030',\n",
       "  'qn': 15,\n",
       "  't': 'Sun Sep  5 19:00:09 2021'}}"
      ]
     },
     "execution_count": 169,
     "metadata": {},
     "output_type": "execute_result"
    }
   ],
   "source": [
    "sales"
   ]
  },
  {
   "cell_type": "markdown",
   "metadata": {
    "id": "ltSE4xcuFU3a"
   },
   "source": [
    "#CREATING SALES.JSON FILE AND UPDATING AFTER TRANSACTION:-\n"
   ]
  },
  {
   "cell_type": "code",
   "execution_count": 170,
   "metadata": {
    "id": "0hjXG5N0Ah-d"
   },
   "outputs": [],
   "source": [
    "js=json.dumps(sales)\n",
    "fd=open(\"sales.json\",\"w\")\n",
    "fd.write(js)\n",
    "fd.close()\n"
   ]
  }
 ],
 "metadata": {
  "colab": {
   "name": "INVESTORY MANGEMENT SYSTEM ASSIGNMENT/PROJECT",
   "provenance": []
  },
  "kernelspec": {
   "display_name": "Python 3",
   "language": "python",
   "name": "python3"
  },
  "language_info": {
   "codemirror_mode": {
    "name": "ipython",
    "version": 3
   },
   "file_extension": ".py",
   "mimetype": "text/x-python",
   "name": "python",
   "nbconvert_exporter": "python",
   "pygments_lexer": "ipython3",
   "version": "3.8.8"
  }
 },
 "nbformat": 4,
 "nbformat_minor": 1
}
